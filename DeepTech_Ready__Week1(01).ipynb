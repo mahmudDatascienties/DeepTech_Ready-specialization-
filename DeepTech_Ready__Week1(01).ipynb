{
  "nbformat": 4,
  "nbformat_minor": 0,
  "metadata": {
    "colab": {
      "private_outputs": true,
      "provenance": [],
      "mount_file_id": "1pTOmbLu1Pcs8x8DfSO1jB3CFSLqyfIsD",
      "authorship_tag": "ABX9TyNGb46MtT2YZ+LfR3h65SEN",
      "include_colab_link": true
    },
    "kernelspec": {
      "name": "python3",
      "display_name": "Python 3"
    },
    "language_info": {
      "name": "python"
    }
  },
  "cells": [
    {
      "cell_type": "markdown",
      "metadata": {
        "id": "view-in-github",
        "colab_type": "text"
      },
      "source": [
        "<a href=\"https://colab.research.google.com/github/mahmudDatascienties/DeepTech_Ready-specialization-/blob/main/DeepTech_Ready__Week1(01).ipynb\" target=\"_parent\"><img src=\"https://colab.research.google.com/assets/colab-badge.svg\" alt=\"Open In Colab\"/></a>"
      ]
    },
    {
      "cell_type": "code",
      "execution_count": null,
      "metadata": {
        "id": "CTcO9w3ZvPTc"
      },
      "outputs": [],
      "source": [
        "!pip install pandas==2.1.4\n",
        "!pip install scikit_learn==1.6.0"
      ]
    },
    {
      "cell_type": "code",
      "source": [
        "import pandas as pd\n",
        "import numpy as np\n",
        "import seaborn as sns\n",
        "import matplotlib.pyplot as plt\n",
        "\n",
        "# Import necessary libraries for data analysis and visualization"
      ],
      "metadata": {
        "id": "mph1J8WjviG2"
      },
      "execution_count": null,
      "outputs": []
    },
    {
      "cell_type": "code",
      "source": [
        "df = pd.read_csv('/content/drive/MyDrive/country_wise_latest.csv')\n",
        "# Load the dataset"
      ],
      "metadata": {
        "id": "mI0841kjvxD-"
      },
      "execution_count": null,
      "outputs": []
    },
    {
      "cell_type": "code",
      "source": [
        "df.head()\n",
        "# Display the first few rows of the DataFrame"
      ],
      "metadata": {
        "id": "ylpj5EXpwxO-"
      },
      "execution_count": null,
      "outputs": []
    },
    {
      "cell_type": "code",
      "source": [
        "df.info()\n",
        "# Display information about the DataFrame"
      ],
      "metadata": {
        "id": "zZ24LzxcwPvJ"
      },
      "execution_count": null,
      "outputs": []
    },
    {
      "cell_type": "code",
      "source": [
        "df\n",
        "# Display the entire DataFrame"
      ],
      "metadata": {
        "id": "-WqdFW2axGpI"
      },
      "execution_count": null,
      "outputs": []
    },
    {
      "cell_type": "code",
      "source": [
        "# df.drop('Country/Region', axis=1, inplace=True)\n",
        "df.drop('Country/Region', axis=1, inplace=True)"
      ],
      "metadata": {
        "id": "wc81fPhpxguk"
      },
      "execution_count": null,
      "outputs": []
    },
    {
      "cell_type": "code",
      "source": [
        "df"
      ],
      "metadata": {
        "id": "Mq8ynV7Wx32P"
      },
      "execution_count": null,
      "outputs": []
    },
    {
      "cell_type": "code",
      "source": [
        "df.isnull().sum()\n",
        "# Check for null values"
      ],
      "metadata": {
        "id": "SlOAac_Jx5kC"
      },
      "execution_count": null,
      "outputs": []
    },
    {
      "cell_type": "code",
      "source": [
        "df.duplicated().sum()\n",
        "# Check for duplicate rows"
      ],
      "metadata": {
        "id": "05XQOvJeygXq"
      },
      "execution_count": null,
      "outputs": []
    },
    {
      "cell_type": "code",
      "source": [
        "df.describe\n",
        "# This refers to the describe method, not the executed result"
      ],
      "metadata": {
        "id": "cUBgJ1oPyv5c"
      },
      "execution_count": null,
      "outputs": []
    },
    {
      "cell_type": "code",
      "source": [
        "df.describe()\n",
        "# Display descriptive statistics for numerical columns"
      ],
      "metadata": {
        "id": "q0acDb0gy7VT"
      },
      "execution_count": null,
      "outputs": []
    },
    {
      "cell_type": "code",
      "source": [
        "df.describe(include=\"object\")\n",
        "# Display descriptive statistics for object columns"
      ],
      "metadata": {
        "id": "r2a9-jn7zDOX"
      },
      "execution_count": null,
      "outputs": []
    },
    {
      "cell_type": "code",
      "source": [
        "df = pd.read_csv('/content/drive/MyDrive/country_wise_latest.csv')"
      ],
      "metadata": {
        "id": "CHKGuKOtzf_L"
      },
      "execution_count": null,
      "outputs": []
    },
    {
      "cell_type": "code",
      "source": [
        "df"
      ],
      "metadata": {
        "id": "n_dspCBJ0Aqa"
      },
      "execution_count": null,
      "outputs": []
    },
    {
      "cell_type": "code",
      "source": [
        "df.describe().sum()"
      ],
      "metadata": {
        "id": "oVaorUMI0FH_"
      },
      "execution_count": null,
      "outputs": []
    },
    {
      "cell_type": "code",
      "source": [
        "df.describe(include=\"object\")"
      ],
      "metadata": {
        "id": "GYnU_MnW0imX"
      },
      "execution_count": null,
      "outputs": []
    },
    {
      "cell_type": "code",
      "source": [
        "for i in df.select_dtypes(include=\"number\").columns:\n",
        "    sns.histplot(data=df,x=i)\n",
        "    plt.show()\n",
        "# Generate histograms for numerical columns"
      ],
      "metadata": {
        "id": "2FaJC5M41AnU"
      },
      "execution_count": null,
      "outputs": []
    },
    {
      "cell_type": "code",
      "source": [
        "for i in['Confirmed', 'Recovered', 'Active']:\n",
        "    sns.scatterplot(data=df,x=i,y='Deaths')\n",
        "    plt.show()\n",
        "# Generate scatter plots to show relationships"
      ],
      "metadata": {
        "id": "TP7w2v1q1auO"
      },
      "execution_count": null,
      "outputs": []
    },
    {
      "cell_type": "code",
      "source": [
        "heatmap=df.select_dtypes(include=\"number\").corr()\n",
        "# Calculate the correlation matrix"
      ],
      "metadata": {
        "id": "EWmTAUra1_TT"
      },
      "execution_count": null,
      "outputs": []
    },
    {
      "cell_type": "code",
      "source": [
        "sns.heatmap(heatmap,annot=True)\n",
        "# Generate a heatmap of the correlation matrix"
      ],
      "metadata": {
        "id": "esbuqDAk2IYt"
      },
      "execution_count": null,
      "outputs": []
    },
    {
      "cell_type": "code",
      "source": [
        "from sklearn.model_selection import train_test_split\n",
        "from sklearn.tree import DecisionTreeClassifier\n",
        "from sklearn.metrics import classification_report, accuracy_score\n",
        "from sklearn.preprocessing import StandardScaler, LabelEncoder\n",
        "\n",
        "# Import necessary libraries for machine learning"
      ],
      "metadata": {
        "id": "xKfeAB1M2Q4s"
      },
      "execution_count": null,
      "outputs": []
    },
    {
      "cell_type": "code",
      "source": [
        "df['High_Severity'] = (df['Deaths'] > 500).astype(int)\n",
        "\n",
        "features = ['Confirmed', 'Recovered', 'Active']\n",
        "X = df[features]\n",
        "y = df['High_Severity']\n",
        "\n",
        "if 'WHO Region' in df.columns:\n",
        "    encoder = LabelEncoder()\n",
        "    df['WHO_Region_Encoded'] = encoder.fit_transform(df['WHO Region'])\n",
        "    X['WHO_Region_Encoded'] = df['WHO_Region_Encoded']\n",
        "\n",
        "scaler = StandardScaler()\n",
        "X = scaler.fit_transform(X)\n",
        "\n",
        "X_train, X_test, y_train, y_test = train_test_split(X, y, test_size=0.2, random_state=42)\n",
        "\n",
        "\n",
        "model = DecisionTreeClassifier()\n",
        "model.fit(X_train, y_train)\n",
        "\n",
        "\n",
        "y_pred = model.predict(X_test)\n",
        "print(\"Accuracy:\", accuracy_score(y_test, y_pred))\n",
        "print(\"\\nClassification Report:\\n\", classification_report(y_test, y_pred))\n",
        "# Prepare data and train a Decision Tree Classifier"
      ],
      "metadata": {
        "id": "gjimAnG54bIT"
      },
      "execution_count": null,
      "outputs": []
    }
  ]
}